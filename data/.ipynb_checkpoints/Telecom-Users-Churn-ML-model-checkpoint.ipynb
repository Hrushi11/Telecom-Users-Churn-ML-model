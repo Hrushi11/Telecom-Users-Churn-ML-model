{
 "cells": [
  {
   "cell_type": "markdown",
   "id": "attractive-sigma",
   "metadata": {},
   "source": [
    "# Telecom Users Churn Machine Learning model\n",
    "\n",
    "**This notebook looks into using Python-based Machine-learning and Data Science libraries in an attempt to build a machine learning model capable of identifying whether or not people will renew their contract.**\n",
    "\n",
    "Any business wants to maximize the number of customers. To achieve this goal, it is important not only to try to attract new ones, but also to retain existing ones. Retaining a client will cost the company less than attracting a new one. In addition, a new client may be weakly interested in business services and it will be difficult to work with him, while old clients already have the necessary data on interaction with the service.\n",
    "\n",
    "Accordingly, predicting the churn, we can react in time and try to keep the client who wants to leave. Based on the data about the services that the client uses, we can make him a special offer, trying to change his decision to leave the operator. This will make the task of retention easier to implement than the task of attracting new users, about which we do not know anything yet.\n",
    "\n",
    "## 1. Problem Definition\n",
    "**Statement :**\n",
    "> The task is to analyze the data and predict the churn of users (to identify people who will and will not renew their contract).\n",
    "\n",
    "### Churn : \n",
    "\n",
    "Churn is a measurement of the percentage of accounts that cancel or choose not to renew their subscriptions. Churn is the measure of how many customers stop using a product. This can be measured based on actual usage or failure to renew (when the product is sold using a subscription model).\n",
    "\n",
    "## 2. Data\n",
    "\n",
    "The data we are using comes from Kaggle: <br>\n",
    "https://www.kaggle.com/radmirzosimov/telecom-users-dataset\n",
    "\n",
    "\n",
    "## 3. Evaluation\n",
    "> If we can reach maximum accuracy at predicting whether or not a patient will renew his subscrption.\n",
    " \n",
    " ## 4. Features\n",
    " \n",
    "The work should include the following ma*ndatory items:**\n",
    "\n",
    "* Description of the data (with the calculation of basic statistics);\n",
    "* Research of dependencies and formulation of hypotheses;\n",
    "* Building models for predicting the outflow (with justification for the choice of a particular model) based on tested hypotheses and identified relationships\n",
    "* Comparison of the quality of the obtained models."
   ]
  },
  {
   "cell_type": "code",
   "execution_count": 1,
   "id": "stuck-incidence",
   "metadata": {},
   "outputs": [],
   "source": [
    "# Importing the tools we need \n",
    "import pandas as pd\n",
    "import numpy as np\n",
    "import matplotlib.pyplot as plt"
   ]
  },
  {
   "cell_type": "code",
   "execution_count": null,
   "id": "invalid-chuck",
   "metadata": {},
   "outputs": [],
   "source": [
    "# Getting our data into our Jupyter notebook\n",
    "df = pd.read_csv(\"data/\")"
   ]
  }
 ],
 "metadata": {
  "kernelspec": {
   "display_name": "Python 3",
   "language": "python",
   "name": "python3"
  },
  "language_info": {
   "codemirror_mode": {
    "name": "ipython",
    "version": 3
   },
   "file_extension": ".py",
   "mimetype": "text/x-python",
   "name": "python",
   "nbconvert_exporter": "python",
   "pygments_lexer": "ipython3",
   "version": "3.7.10"
  }
 },
 "nbformat": 4,
 "nbformat_minor": 5
}
